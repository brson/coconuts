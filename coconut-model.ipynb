{
 "cells": [
  {
   "cell_type": "code",
   "execution_count": 11,
   "metadata": {},
   "outputs": [
    {
     "data": {
      "text/plain": [
       "[<matplotlib.lines.Line2D at 0x7f9f99e69ef0>]"
      ]
     },
     "execution_count": 11,
     "metadata": {},
     "output_type": "execute_result"
    },
    {
     "data": {
      "image/png": "[encoded data removed]",
      "text/plain": [
       "<matplotlib.figure.Figure at 0x7f9f99ea2748>"
      ]
     },
     "metadata": {},
     "output_type": "display_data"
    }
   ],
   "source": [
    "# Jupyter notebook\n",
    "\n",
    "from matplotlib import pyplot as plt\n",
    "import numpy as np\n",
    "import math\n",
    "\n",
    "%matplotlib inline\n",
    "\n",
    "plot_blocks = 100\n",
    "coconuts_per_block = 1\n",
    "coconut_maturation_blocks = 10\n",
    "\n",
    "state = {\n",
    "    'init_block_index': 0,\n",
    "    'coconut_tree_count': 1,\n",
    "    'snapshot_young_coconuts': 0,\n",
    "}\n",
    "\n",
    "def saturating_sub(a, b):\n",
    "    c = a - b\n",
    "    if c < 0:\n",
    "        c = 0\n",
    "    return c\n",
    "\n",
    "def baseline_coconuts(state, block_index):\n",
    "    diff_block_index = block_index - state['init_block_index']\n",
    "    coconuts_since_init = diff_block_index * state['coconut_tree_count'] * coconuts_per_block\n",
    "    baseline = state['snapshot_young_coconuts'] + coconuts_since_init\n",
    "    return baseline\n",
    "\n",
    "def young_coconut_balance(state, block_index):\n",
    "    baseline = baseline_coconuts(state, block_index)\n",
    "    brown_coconuts = brown_coconut_balance(state, block_index)\n",
    "    coconuts = baseline - brown_coconuts\n",
    "    return coconuts\n",
    "\n",
    "def brown_coconut_balance(state, block_index):\n",
    "    baseline = baseline_coconuts(state, block_index)\n",
    "    coconuts = saturating_sub(baseline, coconut_maturation_blocks)\n",
    "    coconuts = coconuts * coconuts_per_block\n",
    "    return coconuts\n",
    "\n",
    "x = np.arange(state['init_block_index'], state['init_block_index'] + plot_blocks)\n",
    "baseline_coconuts_bound = lambda x: baseline_coconuts(state, x)\n",
    "young_coconut_balance_bound = lambda x: young_coconut_balance(state, x)\n",
    "brown_coconut_balance_bound = lambda x: brown_coconut_balance(state, x)\n",
    "\n",
    "y_baseline_coconuts = np.array(list(map(baseline_coconuts_bound, x)))\n",
    "y_young_coconut_balance = np.array(list(map(young_coconut_balance_bound, x)))\n",
    "y_brown_coconut_balance = np.array(list(map(brown_coconut_balance_bound, x)))\n",
    "\n",
    "fig = plt.figure()\n",
    "ax = fig.add_axes([0, 0, 1, 1])\n",
    "ax.plot(x, y_baseline_coconuts)\n",
    "ax.plot(x, y_young_coconut_balance)\n",
    "ax.plot(x, y_brown_coconut_balance)"
   ]
  },
  {
   "cell_type": "code",
   "execution_count": null,
   "metadata": {},
   "outputs": [],
   "source": []
  }
 ],
 "metadata": {
  "kernelspec": {
   "display_name": "Python 3",
   "language": "python",
   "name": "python3"
  },
  "language_info": {
   "codemirror_mode": {
    "name": "ipython",
    "version": 3
   },
   "file_extension": ".py",
   "mimetype": "text/x-python",
   "name": "python",
   "nbconvert_exporter": "python",
   "pygments_lexer": "ipython3",
   "version": "3.6.9"
  }
 },
 "nbformat": 4,
 "nbformat_minor": 2
}
